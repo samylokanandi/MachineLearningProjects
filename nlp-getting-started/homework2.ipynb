{
 "cells": [
  {
   "cell_type": "code",
   "execution_count": 839,
   "id": "6a8b5144-0f0f-4601-b512-11951a5c1d7f",
   "metadata": {},
   "outputs": [],
   "source": [
    "import numpy as np\n",
    "import csv\n",
    "from matplotlib import pyplot as plt\n",
    "import pandas as pd\n",
    "from sklearn.model_selection import train_test_split\n",
    "import re\n",
    "import nltk\n",
    "from nltk.corpus import wordnet\n",
    "from nltk.tokenize import word_tokenize\n",
    "from nltk.stem import WordNetLemmatizer\n",
    "from nltk.corpus import wordnet, stopwords\n",
    "from sklearn.feature_extraction.text import CountVectorizer\n",
    "from sklearn.linear_model import LogisticRegression\n",
    "from sklearn.metrics import f1_score\n",
    "from sklearn.model_selection import train_test_split"
   ]
  },
  {
   "cell_type": "code",
   "execution_count": 840,
   "id": "0232bc51-e49b-4e76-ba8a-2d0da69e69e9",
   "metadata": {},
   "outputs": [
    {
     "name": "stderr",
     "output_type": "stream",
     "text": [
      "[nltk_data] Downloading package wordnet to\n",
      "[nltk_data]     /Users/samylokanandi/nltk_data...\n",
      "[nltk_data]   Package wordnet is already up-to-date!\n",
      "[nltk_data] Downloading package averaged_perceptron_tagger to\n",
      "[nltk_data]     /Users/samylokanandi/nltk_data...\n",
      "[nltk_data]   Package averaged_perceptron_tagger is already up-to-\n",
      "[nltk_data]       date!\n",
      "[nltk_data] Downloading package stopwords to\n",
      "[nltk_data]     /Users/samylokanandi/nltk_data...\n",
      "[nltk_data]   Package stopwords is already up-to-date!\n"
     ]
    },
    {
     "data": {
      "text/plain": [
       "True"
      ]
     },
     "execution_count": 840,
     "metadata": {},
     "output_type": "execute_result"
    }
   ],
   "source": [
    "nltk.download('wordnet')\n",
    "nltk.download('averaged_perceptron_tagger')\n",
    "nltk.download('stopwords')\n"
   ]
  },
  {
   "cell_type": "code",
   "execution_count": 841,
   "id": "9eda7504-8f4f-409e-af29-92b6ce96e44d",
   "metadata": {},
   "outputs": [],
   "source": [
    "train = pd.read_csv(\"train.csv\")"
   ]
  },
  {
   "cell_type": "code",
   "execution_count": 842,
   "id": "ff631cce-03a0-4971-b9aa-51f7e8878890",
   "metadata": {},
   "outputs": [],
   "source": [
    "test = pd.read_csv(\"test.csv\")"
   ]
  },
  {
   "cell_type": "code",
   "execution_count": 843,
   "id": "bd62da53-9aba-4727-85a2-41ca4a4b3bc6",
   "metadata": {},
   "outputs": [
    {
     "data": {
      "text/plain": [
       "(7613, 5)"
      ]
     },
     "execution_count": 843,
     "metadata": {},
     "output_type": "execute_result"
    }
   ],
   "source": [
    "train.shape"
   ]
  },
  {
   "cell_type": "code",
   "execution_count": 844,
   "id": "18d07460-ceed-4bce-8bbd-b9797c48553f",
   "metadata": {},
   "outputs": [
    {
     "data": {
      "text/plain": [
       "(3263, 4)"
      ]
     },
     "execution_count": 844,
     "metadata": {},
     "output_type": "execute_result"
    }
   ],
   "source": [
    "test.shape"
   ]
  },
  {
   "cell_type": "code",
   "execution_count": 845,
   "id": "dbe024b8-4ce0-44d3-a47c-38d91cdf3ff4",
   "metadata": {},
   "outputs": [
    {
     "data": {
      "text/plain": [
       "target\n",
       "0    4342\n",
       "1    3271\n",
       "Name: count, dtype: int64"
      ]
     },
     "execution_count": 845,
     "metadata": {},
     "output_type": "execute_result"
    }
   ],
   "source": [
    "target_counts = train['target'].value_counts()\n",
    "target_counts"
   ]
  },
  {
   "cell_type": "code",
   "execution_count": 846,
   "id": "393f2f0a-4b23-4384-ba50-359cfcbfb1f7",
   "metadata": {},
   "outputs": [
    {
     "name": "stdout",
     "output_type": "stream",
     "text": [
      "Percentage of real disaster tweets: 42.97%\n",
      "Percentage of non-real disaster tweets: 57.03%\n"
     ]
    }
   ],
   "source": [
    "total_tweets = len(train)\n",
    "disaster_tweets = len(train[train['target'] == 1])\n",
    "non_disaster_tweets = len(train[train['target'] == 0])\n",
    "\n",
    "disaster_percentage = (disaster_tweets / total_tweets) * 100\n",
    "non_disaster_percentage = (non_disaster_tweets / total_tweets) * 100\n",
    "\n",
    "print(f\"Percentage of real disaster tweets: {disaster_percentage:.2f}%\")\n",
    "print(f\"Percentage of non-real disaster tweets: {non_disaster_percentage:.2f}%\")"
   ]
  },
  {
   "cell_type": "code",
   "execution_count": 847,
   "id": "878690dd-a891-4ad8-9e54-0be637572014",
   "metadata": {},
   "outputs": [],
   "source": [
    "# Split the data: 70% training and 30% development\n",
    "train_set, dev_set = train_test_split(train, test_size=0.3, random_state=42)\n",
    "train_set.to_csv('train_set.csv', index=False)\n",
    "dev_set.to_csv('dev_set.csv', index=False)"
   ]
  },
  {
   "cell_type": "code",
   "execution_count": 848,
   "id": "5eb6071b-b490-4ad5-9b49-0c6995d75551",
   "metadata": {},
   "outputs": [],
   "source": [
    "# PREPROCESSING \n",
    "def to_lowercase(text):\n",
    "    return text.lower()\n",
    "def remove_punctuation(text):\n",
    "    return re.sub(r'[^\\w\\s]', '', text) "
   ]
  },
  {
   "cell_type": "code",
   "execution_count": 849,
   "id": "0872665a-3c63-462a-a47d-be98658ad4de",
   "metadata": {},
   "outputs": [],
   "source": [
    "def remove_mentions_and_urls(text):\n",
    "    text = re.sub(r\"http\\S+|www\\S+|https\\S+\", '', text, flags=re.MULTILINE)\n",
    "    text = re.sub(r'\\@\\w+', '', text)\n",
    "    return text"
   ]
  },
  {
   "cell_type": "code",
   "execution_count": 850,
   "id": "e3f5d6c6-2166-47b8-8e43-39987a6942eb",
   "metadata": {},
   "outputs": [],
   "source": [
    "def handle_hashtags(text):\n",
    "   \n",
    "    return re.sub(r'#\\w+', '', text)"
   ]
  },
  {
   "cell_type": "code",
   "execution_count": 851,
   "id": "3943e261-1959-4dc7-9ff2-68f31533981a",
   "metadata": {},
   "outputs": [],
   "source": [
    "lemmatizer = WordNetLemmatizer()\n",
    "stop_words = set(stopwords.words('english'))  \n"
   ]
  },
  {
   "cell_type": "code",
   "execution_count": 852,
   "id": "410ba198-b600-4aef-8272-6a40741a1e75",
   "metadata": {},
   "outputs": [],
   "source": [
    "def get_wordnet_pos(tag):\n",
    "    if tag.startswith('J'):\n",
    "        return wordnet.ADJ\n",
    "    elif tag.startswith('V'):\n",
    "        return wordnet.VERB\n",
    "    elif tag.startswith('N'):\n",
    "        return wordnet.NOUN\n",
    "    elif tag.startswith('R'):\n",
    "        return wordnet.ADV\n",
    "    else:\n",
    "        return wordnet.NOUN  # Default to noun "
   ]
  },
  {
   "cell_type": "code",
   "execution_count": 853,
   "id": "e3f6628b-53a3-4024-b538-adcb4a9c6520",
   "metadata": {},
   "outputs": [],
   "source": [
    "def lemmatize_text(text):\n",
    "    words = word_tokenize(text)  \n",
    "    pos_tags = nltk.pos_tag(words)  \n",
    "    lemmatized_words = [lemmatizer.lemmatize(word, get_wordnet_pos(pos)) for word, pos in pos_tags]  # Lemmatize based on POS\n",
    "    return ' '.join(lemmatized_words)  "
   ]
  },
  {
   "cell_type": "code",
   "execution_count": 854,
   "id": "c2376c83-73b7-4b06-a98a-a37d8efa3ed3",
   "metadata": {},
   "outputs": [],
   "source": [
    "def remove_stopwords(text):\n",
    "    words = word_tokenize(text)\n",
    "    return ' '.join([word for word in words if word.lower() not in stop_words])"
   ]
  },
  {
   "cell_type": "code",
   "execution_count": 855,
   "id": "f01aba28-c7ed-482c-bd30-e1b601ccf47a",
   "metadata": {},
   "outputs": [],
   "source": [
    "def preprocess_text(text):\n",
    "    text = to_lowercase(text)\n",
    "    text = remove_mentions_and_urls(text)\n",
    "    text = handle_hashtags(text)\n",
    "    text = remove_punctuation(text)\n",
    "    text = lemmatize_text(text)\n",
    "    text = remove_stopwords(text)\n",
    "    # text = replace_emojis(text)\n",
    "    return text"
   ]
  },
  {
   "cell_type": "code",
   "execution_count": 856,
   "id": "0631e2a1-d2d9-470e-bade-3a4379924a34",
   "metadata": {},
   "outputs": [],
   "source": [
    "train_set['cleaned_tweet'] = train_set['text'].apply(preprocess_text)\n",
    "dev_set['cleaned_tweet'] = dev_set['text'].apply(preprocess_text)\n"
   ]
  },
  {
   "cell_type": "code",
   "execution_count": 857,
   "id": "f5ab69d4-d9af-47a7-86d8-6e2aabab2b89",
   "metadata": {},
   "outputs": [],
   "source": [
    "# Because this is a moderate sized data set? setting at 5 but can change \n",
    "M = 5\n",
    "\n",
    "vectorizer = CountVectorizer(binary=True, min_df=M)\n",
    "\n",
    "# we need to transform X_dev so the same number of words is outputted\n",
    "X_train = vectorizer.fit_transform(train_set['cleaned_tweet'])  # Fit on training data\n",
    "X_dev = vectorizer.transform(dev_set['cleaned_tweet'])          # Transform the development set"
   ]
  },
  {
   "cell_type": "code",
   "execution_count": 858,
   "id": "adb7df40-348f-4304-a94f-d7b98a013991",
   "metadata": {},
   "outputs": [
    {
     "name": "stdout",
     "output_type": "stream",
     "text": [
      "Vocabulary: ['05' '06' '10' ... 'ûïwhen' 'ûò' 'ûó']\n",
      "\n",
      "Training set feature vectors (binary Bag of Words):\n",
      "[[0 0 0 ... 0 0 0]\n",
      " [0 0 0 ... 0 0 0]\n",
      " [0 0 0 ... 0 0 0]\n",
      " ...\n",
      " [0 0 0 ... 0 0 0]\n",
      " [0 0 0 ... 0 0 0]\n",
      " [0 0 0 ... 0 0 0]]\n",
      "\n",
      "Development set feature vectors (binary Bag of Words):\n",
      "[[0 0 0 ... 0 0 0]\n",
      " [0 0 0 ... 0 0 0]\n",
      " [0 0 0 ... 0 0 0]\n",
      " ...\n",
      " [0 0 0 ... 0 0 0]\n",
      " [0 0 0 ... 0 0 0]\n",
      " [0 0 0 ... 0 0 0]]\n",
      "\n",
      "Total number of features (vocabulary size): 1757\n"
     ]
    }
   ],
   "source": [
    "print(\"Vocabulary:\", vectorizer.get_feature_names_out())\n",
    "\n",
    "print(\"\\nTraining set feature vectors (binary Bag of Words):\")\n",
    "print(X_train.toarray())\n",
    "\n",
    "print(\"\\nDevelopment set feature vectors (binary Bag of Words):\")\n",
    "print(X_dev.toarray())\n",
    "\n",
    "print(f\"\\nTotal number of features (vocabulary size): {len(vectorizer.get_feature_names_out())}\")"
   ]
  },
  {
   "cell_type": "code",
   "execution_count": 859,
   "id": "f33147de-d3d8-4d6e-adb3-afa4a51df317",
   "metadata": {},
   "outputs": [],
   "source": [
    "y_train = train_set['target']\n",
    "y_dev = dev_set['target']"
   ]
  },
  {
   "cell_type": "code",
   "execution_count": 860,
   "id": "a9c9a156-6650-4bce-a3cb-feaa6477eff4",
   "metadata": {},
   "outputs": [
    {
     "data": {
      "text/html": [
       "<style>#sk-container-id-25 {\n",
       "  /* Definition of color scheme common for light and dark mode */\n",
       "  --sklearn-color-text: black;\n",
       "  --sklearn-color-line: gray;\n",
       "  /* Definition of color scheme for unfitted estimators */\n",
       "  --sklearn-color-unfitted-level-0: #fff5e6;\n",
       "  --sklearn-color-unfitted-level-1: #f6e4d2;\n",
       "  --sklearn-color-unfitted-level-2: #ffe0b3;\n",
       "  --sklearn-color-unfitted-level-3: chocolate;\n",
       "  /* Definition of color scheme for fitted estimators */\n",
       "  --sklearn-color-fitted-level-0: #f0f8ff;\n",
       "  --sklearn-color-fitted-level-1: #d4ebff;\n",
       "  --sklearn-color-fitted-level-2: #b3dbfd;\n",
       "  --sklearn-color-fitted-level-3: cornflowerblue;\n",
       "\n",
       "  /* Specific color for light theme */\n",
       "  --sklearn-color-text-on-default-background: var(--sg-text-color, var(--theme-code-foreground, var(--jp-content-font-color1, black)));\n",
       "  --sklearn-color-background: var(--sg-background-color, var(--theme-background, var(--jp-layout-color0, white)));\n",
       "  --sklearn-color-border-box: var(--sg-text-color, var(--theme-code-foreground, var(--jp-content-font-color1, black)));\n",
       "  --sklearn-color-icon: #696969;\n",
       "\n",
       "  @media (prefers-color-scheme: dark) {\n",
       "    /* Redefinition of color scheme for dark theme */\n",
       "    --sklearn-color-text-on-default-background: var(--sg-text-color, var(--theme-code-foreground, var(--jp-content-font-color1, white)));\n",
       "    --sklearn-color-background: var(--sg-background-color, var(--theme-background, var(--jp-layout-color0, #111)));\n",
       "    --sklearn-color-border-box: var(--sg-text-color, var(--theme-code-foreground, var(--jp-content-font-color1, white)));\n",
       "    --sklearn-color-icon: #878787;\n",
       "  }\n",
       "}\n",
       "\n",
       "#sk-container-id-25 {\n",
       "  color: var(--sklearn-color-text);\n",
       "}\n",
       "\n",
       "#sk-container-id-25 pre {\n",
       "  padding: 0;\n",
       "}\n",
       "\n",
       "#sk-container-id-25 input.sk-hidden--visually {\n",
       "  border: 0;\n",
       "  clip: rect(1px 1px 1px 1px);\n",
       "  clip: rect(1px, 1px, 1px, 1px);\n",
       "  height: 1px;\n",
       "  margin: -1px;\n",
       "  overflow: hidden;\n",
       "  padding: 0;\n",
       "  position: absolute;\n",
       "  width: 1px;\n",
       "}\n",
       "\n",
       "#sk-container-id-25 div.sk-dashed-wrapped {\n",
       "  border: 1px dashed var(--sklearn-color-line);\n",
       "  margin: 0 0.4em 0.5em 0.4em;\n",
       "  box-sizing: border-box;\n",
       "  padding-bottom: 0.4em;\n",
       "  background-color: var(--sklearn-color-background);\n",
       "}\n",
       "\n",
       "#sk-container-id-25 div.sk-container {\n",
       "  /* jupyter's `normalize.less` sets `[hidden] { display: none; }`\n",
       "     but bootstrap.min.css set `[hidden] { display: none !important; }`\n",
       "     so we also need the `!important` here to be able to override the\n",
       "     default hidden behavior on the sphinx rendered scikit-learn.org.\n",
       "     See: https://github.com/scikit-learn/scikit-learn/issues/21755 */\n",
       "  display: inline-block !important;\n",
       "  position: relative;\n",
       "}\n",
       "\n",
       "#sk-container-id-25 div.sk-text-repr-fallback {\n",
       "  display: none;\n",
       "}\n",
       "\n",
       "div.sk-parallel-item,\n",
       "div.sk-serial,\n",
       "div.sk-item {\n",
       "  /* draw centered vertical line to link estimators */\n",
       "  background-image: linear-gradient(var(--sklearn-color-text-on-default-background), var(--sklearn-color-text-on-default-background));\n",
       "  background-size: 2px 100%;\n",
       "  background-repeat: no-repeat;\n",
       "  background-position: center center;\n",
       "}\n",
       "\n",
       "/* Parallel-specific style estimator block */\n",
       "\n",
       "#sk-container-id-25 div.sk-parallel-item::after {\n",
       "  content: \"\";\n",
       "  width: 100%;\n",
       "  border-bottom: 2px solid var(--sklearn-color-text-on-default-background);\n",
       "  flex-grow: 1;\n",
       "}\n",
       "\n",
       "#sk-container-id-25 div.sk-parallel {\n",
       "  display: flex;\n",
       "  align-items: stretch;\n",
       "  justify-content: center;\n",
       "  background-color: var(--sklearn-color-background);\n",
       "  position: relative;\n",
       "}\n",
       "\n",
       "#sk-container-id-25 div.sk-parallel-item {\n",
       "  display: flex;\n",
       "  flex-direction: column;\n",
       "}\n",
       "\n",
       "#sk-container-id-25 div.sk-parallel-item:first-child::after {\n",
       "  align-self: flex-end;\n",
       "  width: 50%;\n",
       "}\n",
       "\n",
       "#sk-container-id-25 div.sk-parallel-item:last-child::after {\n",
       "  align-self: flex-start;\n",
       "  width: 50%;\n",
       "}\n",
       "\n",
       "#sk-container-id-25 div.sk-parallel-item:only-child::after {\n",
       "  width: 0;\n",
       "}\n",
       "\n",
       "/* Serial-specific style estimator block */\n",
       "\n",
       "#sk-container-id-25 div.sk-serial {\n",
       "  display: flex;\n",
       "  flex-direction: column;\n",
       "  align-items: center;\n",
       "  background-color: var(--sklearn-color-background);\n",
       "  padding-right: 1em;\n",
       "  padding-left: 1em;\n",
       "}\n",
       "\n",
       "\n",
       "/* Toggleable style: style used for estimator/Pipeline/ColumnTransformer box that is\n",
       "clickable and can be expanded/collapsed.\n",
       "- Pipeline and ColumnTransformer use this feature and define the default style\n",
       "- Estimators will overwrite some part of the style using the `sk-estimator` class\n",
       "*/\n",
       "\n",
       "/* Pipeline and ColumnTransformer style (default) */\n",
       "\n",
       "#sk-container-id-25 div.sk-toggleable {\n",
       "  /* Default theme specific background. It is overwritten whether we have a\n",
       "  specific estimator or a Pipeline/ColumnTransformer */\n",
       "  background-color: var(--sklearn-color-background);\n",
       "}\n",
       "\n",
       "/* Toggleable label */\n",
       "#sk-container-id-25 label.sk-toggleable__label {\n",
       "  cursor: pointer;\n",
       "  display: block;\n",
       "  width: 100%;\n",
       "  margin-bottom: 0;\n",
       "  padding: 0.5em;\n",
       "  box-sizing: border-box;\n",
       "  text-align: center;\n",
       "}\n",
       "\n",
       "#sk-container-id-25 label.sk-toggleable__label-arrow:before {\n",
       "  /* Arrow on the left of the label */\n",
       "  content: \"▸\";\n",
       "  float: left;\n",
       "  margin-right: 0.25em;\n",
       "  color: var(--sklearn-color-icon);\n",
       "}\n",
       "\n",
       "#sk-container-id-25 label.sk-toggleable__label-arrow:hover:before {\n",
       "  color: var(--sklearn-color-text);\n",
       "}\n",
       "\n",
       "/* Toggleable content - dropdown */\n",
       "\n",
       "#sk-container-id-25 div.sk-toggleable__content {\n",
       "  max-height: 0;\n",
       "  max-width: 0;\n",
       "  overflow: hidden;\n",
       "  text-align: left;\n",
       "  /* unfitted */\n",
       "  background-color: var(--sklearn-color-unfitted-level-0);\n",
       "}\n",
       "\n",
       "#sk-container-id-25 div.sk-toggleable__content.fitted {\n",
       "  /* fitted */\n",
       "  background-color: var(--sklearn-color-fitted-level-0);\n",
       "}\n",
       "\n",
       "#sk-container-id-25 div.sk-toggleable__content pre {\n",
       "  margin: 0.2em;\n",
       "  border-radius: 0.25em;\n",
       "  color: var(--sklearn-color-text);\n",
       "  /* unfitted */\n",
       "  background-color: var(--sklearn-color-unfitted-level-0);\n",
       "}\n",
       "\n",
       "#sk-container-id-25 div.sk-toggleable__content.fitted pre {\n",
       "  /* unfitted */\n",
       "  background-color: var(--sklearn-color-fitted-level-0);\n",
       "}\n",
       "\n",
       "#sk-container-id-25 input.sk-toggleable__control:checked~div.sk-toggleable__content {\n",
       "  /* Expand drop-down */\n",
       "  max-height: 200px;\n",
       "  max-width: 100%;\n",
       "  overflow: auto;\n",
       "}\n",
       "\n",
       "#sk-container-id-25 input.sk-toggleable__control:checked~label.sk-toggleable__label-arrow:before {\n",
       "  content: \"▾\";\n",
       "}\n",
       "\n",
       "/* Pipeline/ColumnTransformer-specific style */\n",
       "\n",
       "#sk-container-id-25 div.sk-label input.sk-toggleable__control:checked~label.sk-toggleable__label {\n",
       "  color: var(--sklearn-color-text);\n",
       "  background-color: var(--sklearn-color-unfitted-level-2);\n",
       "}\n",
       "\n",
       "#sk-container-id-25 div.sk-label.fitted input.sk-toggleable__control:checked~label.sk-toggleable__label {\n",
       "  background-color: var(--sklearn-color-fitted-level-2);\n",
       "}\n",
       "\n",
       "/* Estimator-specific style */\n",
       "\n",
       "/* Colorize estimator box */\n",
       "#sk-container-id-25 div.sk-estimator input.sk-toggleable__control:checked~label.sk-toggleable__label {\n",
       "  /* unfitted */\n",
       "  background-color: var(--sklearn-color-unfitted-level-2);\n",
       "}\n",
       "\n",
       "#sk-container-id-25 div.sk-estimator.fitted input.sk-toggleable__control:checked~label.sk-toggleable__label {\n",
       "  /* fitted */\n",
       "  background-color: var(--sklearn-color-fitted-level-2);\n",
       "}\n",
       "\n",
       "#sk-container-id-25 div.sk-label label.sk-toggleable__label,\n",
       "#sk-container-id-25 div.sk-label label {\n",
       "  /* The background is the default theme color */\n",
       "  color: var(--sklearn-color-text-on-default-background);\n",
       "}\n",
       "\n",
       "/* On hover, darken the color of the background */\n",
       "#sk-container-id-25 div.sk-label:hover label.sk-toggleable__label {\n",
       "  color: var(--sklearn-color-text);\n",
       "  background-color: var(--sklearn-color-unfitted-level-2);\n",
       "}\n",
       "\n",
       "/* Label box, darken color on hover, fitted */\n",
       "#sk-container-id-25 div.sk-label.fitted:hover label.sk-toggleable__label.fitted {\n",
       "  color: var(--sklearn-color-text);\n",
       "  background-color: var(--sklearn-color-fitted-level-2);\n",
       "}\n",
       "\n",
       "/* Estimator label */\n",
       "\n",
       "#sk-container-id-25 div.sk-label label {\n",
       "  font-family: monospace;\n",
       "  font-weight: bold;\n",
       "  display: inline-block;\n",
       "  line-height: 1.2em;\n",
       "}\n",
       "\n",
       "#sk-container-id-25 div.sk-label-container {\n",
       "  text-align: center;\n",
       "}\n",
       "\n",
       "/* Estimator-specific */\n",
       "#sk-container-id-25 div.sk-estimator {\n",
       "  font-family: monospace;\n",
       "  border: 1px dotted var(--sklearn-color-border-box);\n",
       "  border-radius: 0.25em;\n",
       "  box-sizing: border-box;\n",
       "  margin-bottom: 0.5em;\n",
       "  /* unfitted */\n",
       "  background-color: var(--sklearn-color-unfitted-level-0);\n",
       "}\n",
       "\n",
       "#sk-container-id-25 div.sk-estimator.fitted {\n",
       "  /* fitted */\n",
       "  background-color: var(--sklearn-color-fitted-level-0);\n",
       "}\n",
       "\n",
       "/* on hover */\n",
       "#sk-container-id-25 div.sk-estimator:hover {\n",
       "  /* unfitted */\n",
       "  background-color: var(--sklearn-color-unfitted-level-2);\n",
       "}\n",
       "\n",
       "#sk-container-id-25 div.sk-estimator.fitted:hover {\n",
       "  /* fitted */\n",
       "  background-color: var(--sklearn-color-fitted-level-2);\n",
       "}\n",
       "\n",
       "/* Specification for estimator info (e.g. \"i\" and \"?\") */\n",
       "\n",
       "/* Common style for \"i\" and \"?\" */\n",
       "\n",
       ".sk-estimator-doc-link,\n",
       "a:link.sk-estimator-doc-link,\n",
       "a:visited.sk-estimator-doc-link {\n",
       "  float: right;\n",
       "  font-size: smaller;\n",
       "  line-height: 1em;\n",
       "  font-family: monospace;\n",
       "  background-color: var(--sklearn-color-background);\n",
       "  border-radius: 1em;\n",
       "  height: 1em;\n",
       "  width: 1em;\n",
       "  text-decoration: none !important;\n",
       "  margin-left: 1ex;\n",
       "  /* unfitted */\n",
       "  border: var(--sklearn-color-unfitted-level-1) 1pt solid;\n",
       "  color: var(--sklearn-color-unfitted-level-1);\n",
       "}\n",
       "\n",
       ".sk-estimator-doc-link.fitted,\n",
       "a:link.sk-estimator-doc-link.fitted,\n",
       "a:visited.sk-estimator-doc-link.fitted {\n",
       "  /* fitted */\n",
       "  border: var(--sklearn-color-fitted-level-1) 1pt solid;\n",
       "  color: var(--sklearn-color-fitted-level-1);\n",
       "}\n",
       "\n",
       "/* On hover */\n",
       "div.sk-estimator:hover .sk-estimator-doc-link:hover,\n",
       ".sk-estimator-doc-link:hover,\n",
       "div.sk-label-container:hover .sk-estimator-doc-link:hover,\n",
       ".sk-estimator-doc-link:hover {\n",
       "  /* unfitted */\n",
       "  background-color: var(--sklearn-color-unfitted-level-3);\n",
       "  color: var(--sklearn-color-background);\n",
       "  text-decoration: none;\n",
       "}\n",
       "\n",
       "div.sk-estimator.fitted:hover .sk-estimator-doc-link.fitted:hover,\n",
       ".sk-estimator-doc-link.fitted:hover,\n",
       "div.sk-label-container:hover .sk-estimator-doc-link.fitted:hover,\n",
       ".sk-estimator-doc-link.fitted:hover {\n",
       "  /* fitted */\n",
       "  background-color: var(--sklearn-color-fitted-level-3);\n",
       "  color: var(--sklearn-color-background);\n",
       "  text-decoration: none;\n",
       "}\n",
       "\n",
       "/* Span, style for the box shown on hovering the info icon */\n",
       ".sk-estimator-doc-link span {\n",
       "  display: none;\n",
       "  z-index: 9999;\n",
       "  position: relative;\n",
       "  font-weight: normal;\n",
       "  right: .2ex;\n",
       "  padding: .5ex;\n",
       "  margin: .5ex;\n",
       "  width: min-content;\n",
       "  min-width: 20ex;\n",
       "  max-width: 50ex;\n",
       "  color: var(--sklearn-color-text);\n",
       "  box-shadow: 2pt 2pt 4pt #999;\n",
       "  /* unfitted */\n",
       "  background: var(--sklearn-color-unfitted-level-0);\n",
       "  border: .5pt solid var(--sklearn-color-unfitted-level-3);\n",
       "}\n",
       "\n",
       ".sk-estimator-doc-link.fitted span {\n",
       "  /* fitted */\n",
       "  background: var(--sklearn-color-fitted-level-0);\n",
       "  border: var(--sklearn-color-fitted-level-3);\n",
       "}\n",
       "\n",
       ".sk-estimator-doc-link:hover span {\n",
       "  display: block;\n",
       "}\n",
       "\n",
       "/* \"?\"-specific style due to the `<a>` HTML tag */\n",
       "\n",
       "#sk-container-id-25 a.estimator_doc_link {\n",
       "  float: right;\n",
       "  font-size: 1rem;\n",
       "  line-height: 1em;\n",
       "  font-family: monospace;\n",
       "  background-color: var(--sklearn-color-background);\n",
       "  border-radius: 1rem;\n",
       "  height: 1rem;\n",
       "  width: 1rem;\n",
       "  text-decoration: none;\n",
       "  /* unfitted */\n",
       "  color: var(--sklearn-color-unfitted-level-1);\n",
       "  border: var(--sklearn-color-unfitted-level-1) 1pt solid;\n",
       "}\n",
       "\n",
       "#sk-container-id-25 a.estimator_doc_link.fitted {\n",
       "  /* fitted */\n",
       "  border: var(--sklearn-color-fitted-level-1) 1pt solid;\n",
       "  color: var(--sklearn-color-fitted-level-1);\n",
       "}\n",
       "\n",
       "/* On hover */\n",
       "#sk-container-id-25 a.estimator_doc_link:hover {\n",
       "  /* unfitted */\n",
       "  background-color: var(--sklearn-color-unfitted-level-3);\n",
       "  color: var(--sklearn-color-background);\n",
       "  text-decoration: none;\n",
       "}\n",
       "\n",
       "#sk-container-id-25 a.estimator_doc_link.fitted:hover {\n",
       "  /* fitted */\n",
       "  background-color: var(--sklearn-color-fitted-level-3);\n",
       "}\n",
       "</style><div id=\"sk-container-id-25\" class=\"sk-top-container\"><div class=\"sk-text-repr-fallback\"><pre>LogisticRegression(max_iter=1000, penalty=None)</pre><b>In a Jupyter environment, please rerun this cell to show the HTML representation or trust the notebook. <br />On GitHub, the HTML representation is unable to render, please try loading this page with nbviewer.org.</b></div><div class=\"sk-container\" hidden><div class=\"sk-item\"><div class=\"sk-estimator fitted sk-toggleable\"><input class=\"sk-toggleable__control sk-hidden--visually\" id=\"sk-estimator-id-25\" type=\"checkbox\" checked><label for=\"sk-estimator-id-25\" class=\"sk-toggleable__label fitted sk-toggleable__label-arrow fitted\">&nbsp;&nbsp;LogisticRegression<a class=\"sk-estimator-doc-link fitted\" rel=\"noreferrer\" target=\"_blank\" href=\"https://scikit-learn.org/1.4/modules/generated/sklearn.linear_model.LogisticRegression.html\">?<span>Documentation for LogisticRegression</span></a><span class=\"sk-estimator-doc-link fitted\">i<span>Fitted</span></span></label><div class=\"sk-toggleable__content fitted\"><pre>LogisticRegression(max_iter=1000, penalty=None)</pre></div> </div></div></div></div>"
      ],
      "text/plain": [
       "LogisticRegression(max_iter=1000, penalty=None)"
      ]
     },
     "execution_count": 860,
     "metadata": {},
     "output_type": "execute_result"
    }
   ],
   "source": [
    "# Log Regression\n",
    "logreg = LogisticRegression(penalty=None, solver='lbfgs', max_iter=1000)\n",
    "\n",
    "logreg.fit(X_train, y_train)"
   ]
  },
  {
   "cell_type": "code",
   "execution_count": 861,
   "id": "c5e1f5c2-4248-4fd0-841b-d4b6d487888d",
   "metadata": {},
   "outputs": [
    {
     "name": "stdout",
     "output_type": "stream",
     "text": [
      "F1 score on Training set: 0.9396677033765817\n",
      "F1 score on Development set: 0.7171230564353913\n"
     ]
    }
   ],
   "source": [
    "y_train_pred = logreg.predict(X_train)\n",
    "y_dev_pred = logreg.predict(X_dev)\n",
    "\n",
    "train_f1 = f1_score(y_train, y_train_pred, average='weighted')\n",
    "dev_f1 = f1_score(y_dev, y_dev_pred, average='weighted')\n",
    "\n",
    "print(f\"F1 score on Training set: {train_f1}\")\n",
    "print(f\"F1 score on Development set: {dev_f1}\")\n"
   ]
  },
  {
   "cell_type": "code",
   "execution_count": 862,
   "id": "3be36be8-0eab-4d9b-b25d-95eb5c213d7e",
   "metadata": {},
   "outputs": [],
   "source": [
    "# seeing issues with overfitting "
   ]
  },
  {
   "cell_type": "code",
   "execution_count": 863,
   "id": "20b5ac83-f3ba-44f3-8bee-0abd1da236ea",
   "metadata": {},
   "outputs": [
    {
     "name": "stdout",
     "output_type": "stream",
     "text": [
      "Logistic Regression (L1 Regularization)\n",
      "F1 score on Training set: 0.8544795846242272\n",
      "F1 score on Development set: 0.782350148570447\n"
     ]
    }
   ],
   "source": [
    "# L1 Regularization \n",
    "logreg_l1 = LogisticRegression(penalty='l1', solver='liblinear', max_iter=1000)\n",
    "logreg_l1.fit(X_train, y_train)\n",
    "\n",
    "y_train_pred_l1 = logreg_l1.predict(X_train)\n",
    "y_dev_pred_l1 = logreg_l1.predict(X_dev)\n",
    "\n",
    "train_f1_l1 = f1_score(y_train, y_train_pred_l1, average='weighted')\n",
    "dev_f1_l1 = f1_score(y_dev, y_dev_pred_l1, average='weighted')\n",
    "\n",
    "print(\"Logistic Regression (L1 Regularization)\")\n",
    "print(f\"F1 score on Training set: {train_f1_l1}\")\n",
    "print(f\"F1 score on Development set: {dev_f1_l1}\")"
   ]
  },
  {
   "cell_type": "code",
   "execution_count": 864,
   "id": "228fdcd0-b2d4-4008-a659-710a82fabc80",
   "metadata": {},
   "outputs": [
    {
     "name": "stdout",
     "output_type": "stream",
     "text": [
      "Logistic Regression (L2 Regularization)\n",
      "F1 score on Training set: 0.8734678718889471\n",
      "F1 score on Development set: 0.7825975823699194\n"
     ]
    }
   ],
   "source": [
    "# L2 Regularization (which is the default) \n",
    "logreg_l2 = LogisticRegression(penalty='l2', solver='lbfgs', max_iter=1000)\n",
    "logreg_l2.fit(X_train, y_train)\n",
    "\n",
    "y_train_pred_l2 = logreg_l2.predict(X_train)\n",
    "y_dev_pred_l2 = logreg_l2.predict(X_dev)\n",
    "\n",
    "train_f1_l2 = f1_score(y_train, y_train_pred_l2, average='weighted')\n",
    "dev_f1_l2 = f1_score(y_dev, y_dev_pred_l2, average='weighted')\n",
    "\n",
    "print(\"Logistic Regression (L2 Regularization)\")\n",
    "print(f\"F1 score on Training set: {train_f1_l2}\")\n",
    "print(f\"F1 score on Development set: {dev_f1_l2}\")"
   ]
  },
  {
   "cell_type": "code",
   "execution_count": 865,
   "id": "286dd9c4-e3b5-4d56-b063-4b866e4e476d",
   "metadata": {},
   "outputs": [],
   "source": [
    "# the best performance observed was with L1 Regularization, I observed overfitting without regularizing the data, but once regularized but L1 and L2 gave similar results "
   ]
  },
  {
   "cell_type": "code",
   "execution_count": 866,
   "id": "9b4663b0-d38f-495f-8ae3-79f0078c064c",
   "metadata": {},
   "outputs": [
    {
     "name": "stdout",
     "output_type": "stream",
     "text": [
      "            word    weight\n",
      "502   earthquake  2.262849\n",
      "441   derailment  1.979377\n",
      "1437       spill  1.974917\n",
      "1488     suicide  1.858534\n",
      "1573     tornado  1.843853\n",
      "389         crew  1.839026\n",
      "1703    wildfire  1.810833\n",
      "147       atomic  1.776742\n",
      "949     massacre  1.764226\n",
      "490      drought  1.761261\n"
     ]
    }
   ],
   "source": [
    "# Logistic Regression with L2 penalty\n",
    "LR = LogisticRegression(penalty=\"l2\", solver='liblinear', max_iter=2500)\n",
    "\n",
    "LR.fit(X_train, y_train)\n",
    "\n",
    "coeff = LR.coef_[0]\n",
    "\n",
    "words = vectorizer.get_feature_names_out()\n",
    "\n",
    "min_length = min(len(words), len(coeff))\n",
    "words = words[:min_length]\n",
    "coeff = coeff[:min_length]\n",
    "\n",
    "df = pd.DataFrame({'word': words, 'weight': coeff})\n",
    "\n",
    "top_words = df.sort_values(by='weight', ascending=False)\n",
    "\n",
    "# TOP 10 WORDS\n",
    "print(top_words.head(10))"
   ]
  },
  {
   "cell_type": "code",
   "execution_count": 867,
   "id": "a31b513e-5e34-4bc8-adea-10776929c601",
   "metadata": {},
   "outputs": [],
   "source": [
    "# NAIVE BAYES methods \n",
    "def compute_psis_and_phis(X, y, alpha=1.0):\n",
    "    K = len(np.unique(y))\n",
    "    n, d = X.shape\n",
    "\n",
    "    # compute class priors\n",
    "    phis = np.array([(y == k).mean() for k in np.unique(y)])\n",
    "\n",
    "    # compute conditional probabilities\n",
    "    psis = np.zeros((K, d))\n",
    "    for k in range(K):\n",
    "        X_class = X[y == k]\n",
    "        psis[k, :] = (X_class.sum(axis=0) + alpha) / (X_class.shape[0] + 2 * alpha)\n",
    "\n",
    "    return psis, phis\n",
    "\n",
    "psis, phis = compute_psis_and_phis(X_train, y_train)\n",
    "\n",
    "def nb_predictions(x, psis, phis):\n",
    "    n, d = x.shape\n",
    "    K = psis.shape[0]\n",
    "\n",
    "    psis = psis.clip(1e-14, 1 - 1e-14)\n",
    "\n",
    "    logpy = np.log(phis).reshape([K, 1])\n",
    "\n",
    "    logpxy = x @ np.log(psis.T) + (1 - x) @ np.log(1 - psis.T)\n",
    "    logpyx = logpxy + logpy.T\n",
    "\n",
    "    return logpyx.argmax(axis=1), logpyx\n",
    "\n",
    "idx_train, logpyx = nb_predictions(X_train.toarray(), psis, phis)\n"
   ]
  },
  {
   "cell_type": "code",
   "execution_count": 868,
   "id": "5a6e2dcb-d776-4267-81e6-b023932fcc9f",
   "metadata": {},
   "outputs": [
    {
     "name": "stdout",
     "output_type": "stream",
     "text": [
      "F1 score on the training set: 0.9396677033765817\n",
      "F1 score on the development set: 0.7171230564353913\n"
     ]
    }
   ],
   "source": [
    "# F1 Scores for Naive Bayes\n",
    "train_f1_bayes = f1_score(y_train, y_train_pred, average='weighted')\n",
    "dev_f1_bayes = f1_score(y_dev, y_dev_pred, average='weighted')\n",
    "\n",
    "print(f\"F1 score on the training set: {train_f1_bayes}\")\n",
    "print(f\"F1 score on the development set: {dev_f1_bayes}\")"
   ]
  },
  {
   "cell_type": "code",
   "execution_count": 869,
   "id": "d7365777-c559-4edc-a6eb-b63d801c274b",
   "metadata": {},
   "outputs": [
    {
     "name": "stdout",
     "output_type": "stream",
     "text": [
      "Total number of 2-grams in the vocabulary: 1757\n",
      "10 sample 2-grams: ['05' '06' '10' '100' '1000' '101' '11' '11yearold' '12' '12000']\n",
      "Test: 0.6730575176589304\n"
     ]
    }
   ],
   "source": [
    "M=5\n",
    "n_gram_vectorizer = CountVectorizer(ngram_range=(2, 2), binary=True, min_df=2)\n",
    "\n",
    "X_train_2gram = n_gram_vectorizer.fit_transform(train_set['cleaned_tweet'])\n",
    "\n",
    "X_dev_2gram = n_gram_vectorizer.transform(dev_set['cleaned_tweet'])\n",
    "\n",
    "vocab_size = len(vectorizer.get_feature_names_out())\n",
    "print(f\"Total number of 2-grams in the vocabulary: {vocab_size}\")\n",
    "\n",
    "# 10 GRAMS\n",
    "sample_ngrams = vectorizer.get_feature_names_out()[:10]\n",
    "print(\"10 sample 2-grams:\", sample_ngrams)\n",
    "print(f\"Test: {f1_score(y_dev, y_dev_pred)}\")"
   ]
  },
  {
   "cell_type": "code",
   "execution_count": 870,
   "id": "ae2f998a-16d8-442e-b90b-3ef0781f712a",
   "metadata": {},
   "outputs": [
    {
     "name": "stdout",
     "output_type": "stream",
     "text": [
      "Prior probabilities (phis): [0.56746106 0.43253894]\n"
     ]
    }
   ],
   "source": [
    "print(\"Prior probabilities (phis):\", phis)\n"
   ]
  },
  {
   "cell_type": "code",
   "execution_count": 871,
   "id": "a4fe71be-57ed-48b8-81db-b38d65cf1cc0",
   "metadata": {},
   "outputs": [
    {
     "name": "stdout",
     "output_type": "stream",
     "text": [
      "F1 score on training set (Logistic Regression, 2-grams): 0.7976137365267141\n",
      "F1 score on development set (Logistic Regression, 2-grams): 0.7003067404182036\n"
     ]
    }
   ],
   "source": [
    "# LOGISTIC REGRESSION\n",
    "logreg = LogisticRegression(penalty='l2', solver='lbfgs', max_iter=1000)\n",
    "logreg.fit(X_train_2gram, y_train)\n",
    "\n",
    "y_train_pred = logreg.predict(X_train_2gram)\n",
    "y_dev_pred = logreg.predict(X_dev_2gram)\n",
    "\n",
    "train_f1 = f1_score(y_train, y_train_pred, average='weighted')\n",
    "dev_f1 = f1_score(y_dev, y_dev_pred, average='weighted')\n",
    "\n",
    "# Print F1-scores\n",
    "print(f\"F1 score on training set (Logistic Regression, 2-grams): {train_f1}\")\n",
    "print(f\"F1 score on development set (Logistic Regression, 2-grams): {dev_f1}\")"
   ]
  },
  {
   "cell_type": "code",
   "execution_count": 872,
   "id": "a323f1db-faf2-4b82-bdfa-0c995bf35102",
   "metadata": {},
   "outputs": [
    {
     "name": "stdout",
     "output_type": "stream",
     "text": [
      "F1 score on training set (2-gram, Naive Bayes): 0.730673181325753\n",
      "F1 score on development set (2-gram, Naive Bayes): 0.6627108142989363\n"
     ]
    }
   ],
   "source": [
    "# NAIVE BAYES\n",
    "psis_2gram, phis_2gram = compute_psis_and_phis(X_train_2gram.toarray(), y_train)\n",
    "y_train_pred_2gram, _ = nb_predictions(X_train_2gram.toarray(), psis_2gram, phis_2gram)\n",
    "\n",
    "y_dev_pred_2gram, _ = nb_predictions(X_dev_2gram.toarray(), psis_2gram, phis_2gram)\n",
    "\n",
    "train_f1_2gram = f1_score(y_train, y_train_pred_2gram, average='weighted')\n",
    "print(f\"F1 score on training set (2-gram, Naive Bayes): {train_f1_2gram}\")\n",
    "\n",
    "dev_f1_2gram = f1_score(y_dev, y_dev_pred_2gram, average='weighted')\n",
    "print(f\"F1 score on development set (2-gram, Naive Bayes): {dev_f1_2gram}\")"
   ]
  },
  {
   "cell_type": "code",
   "execution_count": 873,
   "id": "182d7200-72e9-42b3-9e1c-854ba58cf470",
   "metadata": {},
   "outputs": [],
   "source": [
    "# KAGGLE\n",
    "combined_text = pd.concat([train_set['cleaned_tweet'], dev_set['cleaned_tweet']])\n",
    "\n",
    "vectorizer = CountVectorizer(ngram_range=(2, 2), binary=True, min_df=M)\n",
    "X_full = vectorizer.fit_transform(combined_text)  \n",
    "\n",
    "X_test_kaggle = vectorizer.transform(test['text'])\n",
    "logreg_full = LogisticRegression(penalty='l2', solver='lbfgs', max_iter=1000)\n",
    "logreg_full.fit(X_full, y_full) \n",
    "y_test_pred = logreg_full.predict(X_test_kaggle)"
   ]
  },
  {
   "cell_type": "code",
   "execution_count": 874,
   "id": "c16e9ab1-d547-48b5-86bd-67cf17f8ee8d",
   "metadata": {},
   "outputs": [],
   "source": [
    "submission = pd.DataFrame({\n",
    "    'id': test['id'],\n",
    "    'target': y_test_pred\n",
    "})\n",
    "\n",
    "submission.to_csv('kaggle_submission.csv', index=False)"
   ]
  },
  {
   "cell_type": "code",
   "execution_count": null,
   "id": "cfb64d19-a486-42f3-b8f6-e34d62280c8a",
   "metadata": {},
   "outputs": [],
   "source": []
  },
  {
   "cell_type": "code",
   "execution_count": null,
   "id": "38ee46ac-33be-4d07-ae53-1651c4775c9c",
   "metadata": {},
   "outputs": [],
   "source": []
  },
  {
   "cell_type": "code",
   "execution_count": null,
   "id": "8209c36b-c25d-44d5-a494-6e9eb43b2532",
   "metadata": {},
   "outputs": [],
   "source": []
  },
  {
   "cell_type": "code",
   "execution_count": null,
   "id": "6e94ef63-1fe7-4929-85d4-3bde85b76d10",
   "metadata": {},
   "outputs": [],
   "source": []
  },
  {
   "cell_type": "code",
   "execution_count": null,
   "id": "e6e6094d-7248-415b-b3af-8d5dc4a47f69",
   "metadata": {},
   "outputs": [],
   "source": []
  },
  {
   "cell_type": "code",
   "execution_count": null,
   "id": "eaa05313-d31d-4472-8d2f-1d5ea889dc88",
   "metadata": {},
   "outputs": [],
   "source": []
  }
 ],
 "metadata": {
  "kernelspec": {
   "display_name": "Python 3 (ipykernel)",
   "language": "python",
   "name": "python3"
  },
  "language_info": {
   "codemirror_mode": {
    "name": "ipython",
    "version": 3
   },
   "file_extension": ".py",
   "mimetype": "text/x-python",
   "name": "python",
   "nbconvert_exporter": "python",
   "pygments_lexer": "ipython3",
   "version": "3.12.4"
  }
 },
 "nbformat": 4,
 "nbformat_minor": 5
}
